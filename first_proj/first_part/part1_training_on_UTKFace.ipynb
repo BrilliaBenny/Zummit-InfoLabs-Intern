{
  "cells": [
    {
      "cell_type": "markdown",
      "metadata": {
        "id": "-XFMOT1JzYJK"
      },
      "source": [
        "# Importing Relevant Libraries and Modules"
      ]
    },
    {
      "cell_type": "code",
      "execution_count": 1,
      "metadata": {
        "ExecuteTime": {
          "end_time": "2021-06-14T16:14:09.286488Z",
          "start_time": "2021-06-14T16:12:56.250069Z"
        },
        "execution": {
          "iopub.execute_input": "2021-06-14T15:59:01.622187Z",
          "iopub.status.busy": "2021-06-14T15:59:01.621712Z",
          "iopub.status.idle": "2021-06-14T15:59:07.979855Z",
          "shell.execute_reply": "2021-06-14T15:59:07.978981Z",
          "shell.execute_reply.started": "2021-06-14T15:59:01.622074Z"
        },
        "id": "Zi73CDJhzYJL"
      },
      "outputs": [],
      "source": [
        "import random\n",
        "import pandas as pd\n",
        "import numpy as np\n",
        "import seaborn as sns\n",
        "import matplotlib.pyplot as plt\n",
        "\n",
        "import os\n",
        "from PIL import Image, ImageOps\n",
        "from sklearn.model_selection import train_test_split,StratifiedShuffleSplit\n",
        "\n",
        "from keras.models import Sequential\n",
        "from keras.layers import Conv2D, MaxPooling2D, Activation, Dropout, Flatten, Dense\n",
        "from tensorflow.keras import Input, Model\n",
        "\n",
        "from keras import optimizers\n",
        "from keras.preprocessing.image import ImageDataGenerator\n",
        "import tensorflow as tf"
      ]
    },
    {
      "cell_type": "markdown",
      "metadata": {
        "id": "vhY9sp28zYJN"
      },
      "source": [
        "# Set Parmeters"
      ]
    },
    {
      "cell_type": "code",
      "execution_count": 2,
      "metadata": {
        "execution": {
          "iopub.execute_input": "2021-06-14T15:59:07.982157Z",
          "iopub.status.busy": "2021-06-14T15:59:07.981747Z",
          "iopub.status.idle": "2021-06-14T15:59:07.990811Z",
          "shell.execute_reply": "2021-06-14T15:59:07.989786Z",
          "shell.execute_reply.started": "2021-06-14T15:59:07.982124Z"
        },
        "id": "nZue7cBizYJO"
      },
      "outputs": [],
      "source": [
        "n_epochs=30\n",
        "n_batch_size=34\n",
        "size= 200\n",
        "# True to use less number of samples during the training trials, False to obtain final trained model using all samples.\n",
        "developing_stage=True "
      ]
    },
    {
      "cell_type": "markdown",
      "metadata": {
        "id": "G1bFm4bBzYJO"
      },
      "source": [
        "# Reading and exploring data "
      ]
    },
    {
      "cell_type": "code",
      "source": [
        "!pip install -q kaggle\n",
        "! mkdir ~/.kaggle\n",
        "! cp kaggle.json ~/.kaggle/\n",
        "! chmod 600 ~/.kaggle/kaggle.json\n",
        "!kaggle datasets download -d jangedoo/utkface-new"
      ],
      "metadata": {
        "colab": {
          "base_uri": "https://localhost:8080/"
        },
        "id": "gaw5pUbIzsh4",
        "outputId": "5086abd5-c3eb-442b-b6b2-63e11510035d"
      },
      "execution_count": 3,
      "outputs": [
        {
          "output_type": "stream",
          "name": "stdout",
          "text": [
            "Downloading utkface-new.zip to /content\n",
            " 94% 312M/331M [00:02<00:00, 128MB/s]\n",
            "100% 331M/331M [00:02<00:00, 146MB/s]\n"
          ]
        }
      ]
    },
    {
      "cell_type": "code",
      "source": [
        "!unzip -qq /content/utkface-new.zip"
      ],
      "metadata": {
        "id": "dxUASHxk0GCD"
      },
      "execution_count": 4,
      "outputs": []
    },
    {
      "cell_type": "code",
      "execution_count": 6,
      "metadata": {
        "execution": {
          "iopub.execute_input": "2021-06-14T15:59:07.993597Z",
          "iopub.status.busy": "2021-06-14T15:59:07.993235Z",
          "iopub.status.idle": "2021-06-14T15:59:24.615486Z",
          "shell.execute_reply": "2021-06-14T15:59:24.614615Z",
          "shell.execute_reply.started": "2021-06-14T15:59:07.993566Z"
        },
        "id": "ez7g_Kg-zYJP"
      },
      "outputs": [],
      "source": [
        "images = []\n",
        "ages = []\n",
        "genders = []\n",
        "if developing_stage:\n",
        "    last_idx=5000   \n",
        "else:\n",
        "    last_idx=-1\n",
        "\n",
        "for i in os.listdir('/content/UTKFace')[:last_idx]:\n",
        "    split = i.split('_')\n",
        "    ages.append(int(split[0]))\n",
        "    genders.append(int(split[1]))\n",
        "    images.append(Image.open('/content/UTKFace/'+i))"
      ]
    },
    {
      "cell_type": "code",
      "execution_count": 7,
      "metadata": {
        "execution": {
          "iopub.execute_input": "2021-06-14T15:59:24.617098Z",
          "iopub.status.busy": "2021-06-14T15:59:24.616740Z",
          "iopub.status.idle": "2021-06-14T15:59:24.655253Z",
          "shell.execute_reply": "2021-06-14T15:59:24.654523Z",
          "shell.execute_reply.started": "2021-06-14T15:59:24.617058Z"
        },
        "colab": {
          "base_uri": "https://localhost:8080/",
          "height": 206
        },
        "id": "Ip5COSYPzYJQ",
        "outputId": "43360a22-390e-4cde-f692-b08f1ca4615e"
      },
      "outputs": [
        {
          "output_type": "execute_result",
          "data": {
            "text/plain": [
              "                                              Images  Ages  Genders\n",
              "0  <PIL.JpegImagePlugin.JpegImageFile image mode=...    25        1\n",
              "1  <PIL.JpegImagePlugin.JpegImageFile image mode=...     9        1\n",
              "2  <PIL.JpegImagePlugin.JpegImageFile image mode=...    51        1\n",
              "3  <PIL.JpegImagePlugin.JpegImageFile image mode=...    26        0\n",
              "4  <PIL.JpegImagePlugin.JpegImageFile image mode=...    32        0"
            ],
            "text/html": [
              "\n",
              "  <div id=\"df-d2522d44-0109-4786-8dbe-243eb16c6f2f\">\n",
              "    <div class=\"colab-df-container\">\n",
              "      <div>\n",
              "<style scoped>\n",
              "    .dataframe tbody tr th:only-of-type {\n",
              "        vertical-align: middle;\n",
              "    }\n",
              "\n",
              "    .dataframe tbody tr th {\n",
              "        vertical-align: top;\n",
              "    }\n",
              "\n",
              "    .dataframe thead th {\n",
              "        text-align: right;\n",
              "    }\n",
              "</style>\n",
              "<table border=\"1\" class=\"dataframe\">\n",
              "  <thead>\n",
              "    <tr style=\"text-align: right;\">\n",
              "      <th></th>\n",
              "      <th>Images</th>\n",
              "      <th>Ages</th>\n",
              "      <th>Genders</th>\n",
              "    </tr>\n",
              "  </thead>\n",
              "  <tbody>\n",
              "    <tr>\n",
              "      <th>0</th>\n",
              "      <td>&lt;PIL.JpegImagePlugin.JpegImageFile image mode=...</td>\n",
              "      <td>25</td>\n",
              "      <td>1</td>\n",
              "    </tr>\n",
              "    <tr>\n",
              "      <th>1</th>\n",
              "      <td>&lt;PIL.JpegImagePlugin.JpegImageFile image mode=...</td>\n",
              "      <td>9</td>\n",
              "      <td>1</td>\n",
              "    </tr>\n",
              "    <tr>\n",
              "      <th>2</th>\n",
              "      <td>&lt;PIL.JpegImagePlugin.JpegImageFile image mode=...</td>\n",
              "      <td>51</td>\n",
              "      <td>1</td>\n",
              "    </tr>\n",
              "    <tr>\n",
              "      <th>3</th>\n",
              "      <td>&lt;PIL.JpegImagePlugin.JpegImageFile image mode=...</td>\n",
              "      <td>26</td>\n",
              "      <td>0</td>\n",
              "    </tr>\n",
              "    <tr>\n",
              "      <th>4</th>\n",
              "      <td>&lt;PIL.JpegImagePlugin.JpegImageFile image mode=...</td>\n",
              "      <td>32</td>\n",
              "      <td>0</td>\n",
              "    </tr>\n",
              "  </tbody>\n",
              "</table>\n",
              "</div>\n",
              "      <button class=\"colab-df-convert\" onclick=\"convertToInteractive('df-d2522d44-0109-4786-8dbe-243eb16c6f2f')\"\n",
              "              title=\"Convert this dataframe to an interactive table.\"\n",
              "              style=\"display:none;\">\n",
              "        \n",
              "  <svg xmlns=\"http://www.w3.org/2000/svg\" height=\"24px\"viewBox=\"0 0 24 24\"\n",
              "       width=\"24px\">\n",
              "    <path d=\"M0 0h24v24H0V0z\" fill=\"none\"/>\n",
              "    <path d=\"M18.56 5.44l.94 2.06.94-2.06 2.06-.94-2.06-.94-.94-2.06-.94 2.06-2.06.94zm-11 1L8.5 8.5l.94-2.06 2.06-.94-2.06-.94L8.5 2.5l-.94 2.06-2.06.94zm10 10l.94 2.06.94-2.06 2.06-.94-2.06-.94-.94-2.06-.94 2.06-2.06.94z\"/><path d=\"M17.41 7.96l-1.37-1.37c-.4-.4-.92-.59-1.43-.59-.52 0-1.04.2-1.43.59L10.3 9.45l-7.72 7.72c-.78.78-.78 2.05 0 2.83L4 21.41c.39.39.9.59 1.41.59.51 0 1.02-.2 1.41-.59l7.78-7.78 2.81-2.81c.8-.78.8-2.07 0-2.86zM5.41 20L4 18.59l7.72-7.72 1.47 1.35L5.41 20z\"/>\n",
              "  </svg>\n",
              "      </button>\n",
              "      \n",
              "  <style>\n",
              "    .colab-df-container {\n",
              "      display:flex;\n",
              "      flex-wrap:wrap;\n",
              "      gap: 12px;\n",
              "    }\n",
              "\n",
              "    .colab-df-convert {\n",
              "      background-color: #E8F0FE;\n",
              "      border: none;\n",
              "      border-radius: 50%;\n",
              "      cursor: pointer;\n",
              "      display: none;\n",
              "      fill: #1967D2;\n",
              "      height: 32px;\n",
              "      padding: 0 0 0 0;\n",
              "      width: 32px;\n",
              "    }\n",
              "\n",
              "    .colab-df-convert:hover {\n",
              "      background-color: #E2EBFA;\n",
              "      box-shadow: 0px 1px 2px rgba(60, 64, 67, 0.3), 0px 1px 3px 1px rgba(60, 64, 67, 0.15);\n",
              "      fill: #174EA6;\n",
              "    }\n",
              "\n",
              "    [theme=dark] .colab-df-convert {\n",
              "      background-color: #3B4455;\n",
              "      fill: #D2E3FC;\n",
              "    }\n",
              "\n",
              "    [theme=dark] .colab-df-convert:hover {\n",
              "      background-color: #434B5C;\n",
              "      box-shadow: 0px 1px 3px 1px rgba(0, 0, 0, 0.15);\n",
              "      filter: drop-shadow(0px 1px 2px rgba(0, 0, 0, 0.3));\n",
              "      fill: #FFFFFF;\n",
              "    }\n",
              "  </style>\n",
              "\n",
              "      <script>\n",
              "        const buttonEl =\n",
              "          document.querySelector('#df-d2522d44-0109-4786-8dbe-243eb16c6f2f button.colab-df-convert');\n",
              "        buttonEl.style.display =\n",
              "          google.colab.kernel.accessAllowed ? 'block' : 'none';\n",
              "\n",
              "        async function convertToInteractive(key) {\n",
              "          const element = document.querySelector('#df-d2522d44-0109-4786-8dbe-243eb16c6f2f');\n",
              "          const dataTable =\n",
              "            await google.colab.kernel.invokeFunction('convertToInteractive',\n",
              "                                                     [key], {});\n",
              "          if (!dataTable) return;\n",
              "\n",
              "          const docLinkHtml = 'Like what you see? Visit the ' +\n",
              "            '<a target=\"_blank\" href=https://colab.research.google.com/notebooks/data_table.ipynb>data table notebook</a>'\n",
              "            + ' to learn more about interactive tables.';\n",
              "          element.innerHTML = '';\n",
              "          dataTable['output_type'] = 'display_data';\n",
              "          await google.colab.output.renderOutput(dataTable, element);\n",
              "          const docLink = document.createElement('div');\n",
              "          docLink.innerHTML = docLinkHtml;\n",
              "          element.appendChild(docLink);\n",
              "        }\n",
              "      </script>\n",
              "    </div>\n",
              "  </div>\n",
              "  "
            ]
          },
          "metadata": {},
          "execution_count": 7
        }
      ],
      "source": [
        "images = pd.Series(list(images), name = 'Images')\n",
        "ages = pd.Series(list(ages), name = 'Ages')\n",
        "genders = pd.Series(list(genders), name = 'Genders')\n",
        "\n",
        "df = pd.concat([images, ages, genders], axis=1)\n",
        "df.head(5)"
      ]
    },
    {
      "cell_type": "code",
      "execution_count": 8,
      "metadata": {
        "execution": {
          "iopub.execute_input": "2021-06-14T15:59:24.659758Z",
          "iopub.status.busy": "2021-06-14T15:59:24.659458Z",
          "iopub.status.idle": "2021-06-14T15:59:24.666443Z",
          "shell.execute_reply": "2021-06-14T15:59:24.665619Z",
          "shell.execute_reply.started": "2021-06-14T15:59:24.659725Z"
        },
        "id": "s9A4ShdozYJR"
      },
      "outputs": [],
      "source": [
        "def get_gender(x):\n",
        "    return \"Female\" if x else \"Male\""
      ]
    },
    {
      "cell_type": "code",
      "execution_count": 11,
      "metadata": {
        "execution": {
          "iopub.execute_input": "2021-06-14T16:04:55.499777Z",
          "iopub.status.busy": "2021-06-14T16:04:55.499418Z",
          "iopub.status.idle": "2021-06-14T16:04:55.531216Z",
          "shell.execute_reply": "2021-06-14T16:04:55.530255Z",
          "shell.execute_reply.started": "2021-06-14T16:04:55.499747Z"
        },
        "colab": {
          "base_uri": "https://localhost:8080/",
          "height": 234
        },
        "id": "CNSjPZFlzYJS",
        "outputId": "23b6a93e-0521-4a1f-fe2a-e1a13287e052"
      },
      "outputs": [
        {
          "output_type": "stream",
          "name": "stdout",
          "text": [
            "Age and Gender :  50 ,  Female\n"
          ]
        },
        {
          "output_type": "display_data",
          "data": {
            "text/plain": [
              "<PIL.JpegImagePlugin.JpegImageFile image mode=RGB size=200x200 at 0x7F0BA3E83340>"
            ],
            "image/png": "[encoded data removed]"
          },
          "metadata": {}
        }
      ],
      "source": [
        "# 0 corresponds to male, 1 corresponds to female.\n",
        "rand_number = random.randint(0,len(df))\n",
        "print(\"Age and Gender : \",df['Ages'][rand_number],\", \", get_gender(df['Genders'][rand_number]))\n",
        "display(df['Images'][rand_number])"
      ]
    },
    {
      "cell_type": "code",
      "execution_count": 12,
      "metadata": {
        "execution": {
          "iopub.execute_input": "2021-06-14T15:59:24.710269Z",
          "iopub.status.busy": "2021-06-14T15:59:24.709873Z",
          "iopub.status.idle": "2021-06-14T15:59:24.736309Z",
          "shell.execute_reply": "2021-06-14T15:59:24.735191Z",
          "shell.execute_reply.started": "2021-06-14T15:59:24.710226Z"
        },
        "colab": {
          "base_uri": "https://localhost:8080/",
          "height": 300
        },
        "id": "mvxNbj5MzYJT",
        "outputId": "f19743b2-99be-406a-d73b-849974cb691a"
      },
      "outputs": [
        {
          "output_type": "execute_result",
          "data": {
            "text/plain": [
              "              Ages      Genders\n",
              "count  5000.000000  5000.000000\n",
              "mean     33.069600     0.474400\n",
              "std      19.970912     0.499394\n",
              "min       1.000000     0.000000\n",
              "25%      23.000000     0.000000\n",
              "50%      29.000000     0.000000\n",
              "75%      44.000000     1.000000\n",
              "max     116.000000     1.000000"
            ],
            "text/html": [
              "\n",
              "  <div id=\"df-d3b8c71f-c176-49a5-8ed6-c362ebdf340d\">\n",
              "    <div class=\"colab-df-container\">\n",
              "      <div>\n",
              "<style scoped>\n",
              "    .dataframe tbody tr th:only-of-type {\n",
              "        vertical-align: middle;\n",
              "    }\n",
              "\n",
              "    .dataframe tbody tr th {\n",
              "        vertical-align: top;\n",
              "    }\n",
              "\n",
              "    .dataframe thead th {\n",
              "        text-align: right;\n",
              "    }\n",
              "</style>\n",
              "<table border=\"1\" class=\"dataframe\">\n",
              "  <thead>\n",
              "    <tr style=\"text-align: right;\">\n",
              "      <th></th>\n",
              "      <th>Ages</th>\n",
              "      <th>Genders</th>\n",
              "    </tr>\n",
              "  </thead>\n",
              "  <tbody>\n",
              "    <tr>\n",
              "      <th>count</th>\n",
              "      <td>5000.000000</td>\n",
              "      <td>5000.000000</td>\n",
              "    </tr>\n",
              "    <tr>\n",
              "      <th>mean</th>\n",
              "      <td>33.069600</td>\n",
              "      <td>0.474400</td>\n",
              "    </tr>\n",
              "    <tr>\n",
              "      <th>std</th>\n",
              "      <td>19.970912</td>\n",
              "      <td>0.499394</td>\n",
              "    </tr>\n",
              "    <tr>\n",
              "      <th>min</th>\n",
              "      <td>1.000000</td>\n",
              "      <td>0.000000</td>\n",
              "    </tr>\n",
              "    <tr>\n",
              "      <th>25%</th>\n",
              "      <td>23.000000</td>\n",
              "      <td>0.000000</td>\n",
              "    </tr>\n",
              "    <tr>\n",
              "      <th>50%</th>\n",
              "      <td>29.000000</td>\n",
              "      <td>0.000000</td>\n",
              "    </tr>\n",
              "    <tr>\n",
              "      <th>75%</th>\n",
              "      <td>44.000000</td>\n",
              "      <td>1.000000</td>\n",
              "    </tr>\n",
              "    <tr>\n",
              "      <th>max</th>\n",
              "      <td>116.000000</td>\n",
              "      <td>1.000000</td>\n",
              "    </tr>\n",
              "  </tbody>\n",
              "</table>\n",
              "</div>\n",
              "      <button class=\"colab-df-convert\" onclick=\"convertToInteractive('df-d3b8c71f-c176-49a5-8ed6-c362ebdf340d')\"\n",
              "              title=\"Convert this dataframe to an interactive table.\"\n",
              "              style=\"display:none;\">\n",
              "        \n",
              "  <svg xmlns=\"http://www.w3.org/2000/svg\" height=\"24px\"viewBox=\"0 0 24 24\"\n",
              "       width=\"24px\">\n",
              "    <path d=\"M0 0h24v24H0V0z\" fill=\"none\"/>\n",
              "    <path d=\"M18.56 5.44l.94 2.06.94-2.06 2.06-.94-2.06-.94-.94-2.06-.94 2.06-2.06.94zm-11 1L8.5 8.5l.94-2.06 2.06-.94-2.06-.94L8.5 2.5l-.94 2.06-2.06.94zm10 10l.94 2.06.94-2.06 2.06-.94-2.06-.94-.94-2.06-.94 2.06-2.06.94z\"/><path d=\"M17.41 7.96l-1.37-1.37c-.4-.4-.92-.59-1.43-.59-.52 0-1.04.2-1.43.59L10.3 9.45l-7.72 7.72c-.78.78-.78 2.05 0 2.83L4 21.41c.39.39.9.59 1.41.59.51 0 1.02-.2 1.41-.59l7.78-7.78 2.81-2.81c.8-.78.8-2.07 0-2.86zM5.41 20L4 18.59l7.72-7.72 1.47 1.35L5.41 20z\"/>\n",
              "  </svg>\n",
              "      </button>\n",
              "      \n",
              "  <style>\n",
              "    .colab-df-container {\n",
              "      display:flex;\n",
              "      flex-wrap:wrap;\n",
              "      gap: 12px;\n",
              "    }\n",
              "\n",
              "    .colab-df-convert {\n",
              "      background-color: #E8F0FE;\n",
              "      border: none;\n",
              "      border-radius: 50%;\n",
              "      cursor: pointer;\n",
              "      display: none;\n",
              "      fill: #1967D2;\n",
              "      height: 32px;\n",
              "      padding: 0 0 0 0;\n",
              "      width: 32px;\n",
              "    }\n",
              "\n",
              "    .colab-df-convert:hover {\n",
              "      background-color: #E2EBFA;\n",
              "      box-shadow: 0px 1px 2px rgba(60, 64, 67, 0.3), 0px 1px 3px 1px rgba(60, 64, 67, 0.15);\n",
              "      fill: #174EA6;\n",
              "    }\n",
              "\n",
              "    [theme=dark] .colab-df-convert {\n",
              "      background-color: #3B4455;\n",
              "      fill: #D2E3FC;\n",
              "    }\n",
              "\n",
              "    [theme=dark] .colab-df-convert:hover {\n",
              "      background-color: #434B5C;\n",
              "      box-shadow: 0px 1px 3px 1px rgba(0, 0, 0, 0.15);\n",
              "      filter: drop-shadow(0px 1px 2px rgba(0, 0, 0, 0.3));\n",
              "      fill: #FFFFFF;\n",
              "    }\n",
              "  </style>\n",
              "\n",
              "      <script>\n",
              "        const buttonEl =\n",
              "          document.querySelector('#df-d3b8c71f-c176-49a5-8ed6-c362ebdf340d button.colab-df-convert');\n",
              "        buttonEl.style.display =\n",
              "          google.colab.kernel.accessAllowed ? 'block' : 'none';\n",
              "\n",
              "        async function convertToInteractive(key) {\n",
              "          const element = document.querySelector('#df-d3b8c71f-c176-49a5-8ed6-c362ebdf340d');\n",
              "          const dataTable =\n",
              "            await google.colab.kernel.invokeFunction('convertToInteractive',\n",
              "                                                     [key], {});\n",
              "          if (!dataTable) return;\n",
              "\n",
              "          const docLinkHtml = 'Like what you see? Visit the ' +\n",
              "            '<a target=\"_blank\" href=https://colab.research.google.com/notebooks/data_table.ipynb>data table notebook</a>'\n",
              "            + ' to learn more about interactive tables.';\n",
              "          element.innerHTML = '';\n",
              "          dataTable['output_type'] = 'display_data';\n",
              "          await google.colab.output.renderOutput(dataTable, element);\n",
              "          const docLink = document.createElement('div');\n",
              "          docLink.innerHTML = docLinkHtml;\n",
              "          element.appendChild(docLink);\n",
              "        }\n",
              "      </script>\n",
              "    </div>\n",
              "  </div>\n",
              "  "
            ]
          },
          "metadata": {},
          "execution_count": 12
        }
      ],
      "source": [
        "df.describe()"
      ]
    },
    {
      "cell_type": "code",
      "execution_count": 13,
      "metadata": {
        "execution": {
          "iopub.execute_input": "2021-06-14T15:59:24.738518Z",
          "iopub.status.busy": "2021-06-14T15:59:24.738087Z",
          "iopub.status.idle": "2021-06-14T15:59:25.065159Z",
          "shell.execute_reply": "2021-06-14T15:59:25.064391Z",
          "shell.execute_reply.started": "2021-06-14T15:59:24.738460Z"
        },
        "colab": {
          "base_uri": "https://localhost:8080/",
          "height": 386
        },
        "id": "CtnfDwzVzYJT",
        "outputId": "49e98a59-91e8-43bb-a084-4f442cf16b4d"
      },
      "outputs": [
        {
          "output_type": "execute_result",
          "data": {
            "text/plain": [
              "<seaborn.axisgrid.FacetGrid at 0x7f0ba3a71f10>"
            ]
          },
          "metadata": {},
          "execution_count": 13
        },
        {
          "output_type": "display_data",
          "data": {
            "text/plain": [
              "<Figure size 360x360 with 1 Axes>"
            ],
            "image/png": "[encoded data removed]"
          },
          "metadata": {
            "needs_background": "light"
          }
        }
      ],
      "source": [
        "sns.displot(df['Ages'],kde=True, bins=30)"
      ]
    },
    {
      "cell_type": "markdown",
      "metadata": {
        "id": "GDrVB5KAzYJU"
      },
      "source": [
        "# Data modification \n",
        "Too many faces of people between 0 and 4 years old. The model would fit too well to these ages and not enough to the other ages. On the other hand, there aren't many images of people over 80, which would cause the model to not train well enough on those ages. So it is better to just remove over 80s and only have a model that can predict the ages of people over 4 and under 80."
      ]
    },
    {
      "cell_type": "code",
      "execution_count": 14,
      "metadata": {
        "execution": {
          "iopub.execute_input": "2021-06-14T15:59:25.066833Z",
          "iopub.status.busy": "2021-06-14T15:59:25.066474Z",
          "iopub.status.idle": "2021-06-14T15:59:25.075547Z",
          "shell.execute_reply": "2021-06-14T15:59:25.073249Z",
          "shell.execute_reply.started": "2021-06-14T15:59:25.066795Z"
        },
        "colab": {
          "base_uri": "https://localhost:8080/"
        },
        "id": "ByPLl-KyzYJU",
        "outputId": "dbcd60aa-ad78-42da-b2a4-97513b593e68"
      },
      "outputs": [
        {
          "output_type": "stream",
          "name": "stdout",
          "text": [
            "Number of Samples before remove:  (5000, 3)\n",
            "Number of Samples after remove:  (4228, 3)\n"
          ]
        }
      ],
      "source": [
        "print(\"Number of Samples before remove: \", df.shape)\n",
        "df = df[(df['Ages'] > 4) & (df['Ages'] < 70)]\n",
        "print(\"Number of Samples after remove: \", df.shape)"
      ]
    },
    {
      "cell_type": "code",
      "execution_count": 15,
      "metadata": {
        "execution": {
          "iopub.execute_input": "2021-06-14T15:59:25.078742Z",
          "iopub.status.busy": "2021-06-14T15:59:25.078031Z",
          "iopub.status.idle": "2021-06-14T15:59:25.359961Z",
          "shell.execute_reply": "2021-06-14T15:59:25.358953Z",
          "shell.execute_reply.started": "2021-06-14T15:59:25.078698Z"
        },
        "colab": {
          "base_uri": "https://localhost:8080/",
          "height": 386
        },
        "id": "IjpWurcZzYJV",
        "outputId": "d59aabd5-b10a-4275-fc0e-4bdafcc83343"
      },
      "outputs": [
        {
          "output_type": "execute_result",
          "data": {
            "text/plain": [
              "<seaborn.axisgrid.FacetGrid at 0x7f0c0ec2ef40>"
            ]
          },
          "metadata": {},
          "execution_count": 15
        },
        {
          "output_type": "display_data",
          "data": {
            "text/plain": [
              "<Figure size 360x360 with 1 Axes>"
            ],
            "image/png": "[encoded data removed]"
          },
          "metadata": {
            "needs_background": "light"
          }
        }
      ],
      "source": [
        "sns.displot(df['Ages'],kde=True, bins=20)"
      ]
    },
    {
      "cell_type": "markdown",
      "metadata": {
        "id": "9uZKf0NgzYJV"
      },
      "source": [
        "# Prepare datasets"
      ]
    },
    {
      "cell_type": "code",
      "execution_count": 16,
      "metadata": {
        "execution": {
          "iopub.execute_input": "2021-06-14T15:59:25.362015Z",
          "iopub.status.busy": "2021-06-14T15:59:25.361418Z",
          "iopub.status.idle": "2021-06-14T15:59:30.317803Z",
          "shell.execute_reply": "2021-06-14T15:59:30.315458Z",
          "shell.execute_reply.started": "2021-06-14T15:59:25.361972Z"
        },
        "colab": {
          "base_uri": "https://localhost:8080/"
        },
        "id": "dHAzX74nzYJV",
        "outputId": "3b44f110-4177-4d9a-a25c-ac1cba0608cb"
      },
      "outputs": [
        {
          "output_type": "stream",
          "name": "stdout",
          "text": [
            "(4228, 200, 200, 3)\n",
            "(4228,)\n",
            "(4228,)\n"
          ]
        }
      ],
      "source": [
        "X = []\n",
        "Y = []  # age\n",
        "Z = []  # gender\n",
        "\n",
        "def make_X(a):\n",
        "    b = a.resize((size,size), Image.ANTIALIAS)\n",
        "    ar = np.asarray(b)\n",
        "    X.append(ar) \n",
        "        \n",
        "df['Images'].map(make_X)          \n",
        "X = np.array(X)\n",
        "Y = np.array(df['Ages'])\n",
        "Z = np.array(df['Genders'])\n",
        "\n",
        "print(X.shape)\n",
        "print(Y.shape)\n",
        "print(Z.shape)"
      ]
    },
    {
      "cell_type": "markdown",
      "metadata": {
        "id": "_BnueIcgzYJW"
      },
      "source": [
        "##  Train and Validation data"
      ]
    },
    {
      "cell_type": "code",
      "execution_count": 17,
      "metadata": {
        "execution": {
          "iopub.execute_input": "2021-06-14T15:59:30.319805Z",
          "iopub.status.busy": "2021-06-14T15:59:30.319308Z",
          "iopub.status.idle": "2021-06-14T15:59:30.639424Z",
          "shell.execute_reply": "2021-06-14T15:59:30.638394Z",
          "shell.execute_reply.started": "2021-06-14T15:59:30.319761Z"
        },
        "colab": {
          "base_uri": "https://localhost:8080/"
        },
        "id": "pfjkkUvFzYJX",
        "outputId": "4ebd9fbf-6041-4aed-8513-68952cd97305"
      },
      "outputs": [
        {
          "output_type": "stream",
          "name": "stdout",
          "text": [
            "(2832, 200, 200, 3)\n",
            "(2832,)\n",
            "(2832,)\n"
          ]
        }
      ],
      "source": [
        "sss = StratifiedShuffleSplit(n_splits=2, test_size=0.33, random_state=0)\n",
        "\n",
        "for train_index, test_index in sss.split(X, Y):\n",
        "#     print(\"TRAIN:\", train_index, \"TEST:\", test_index)\n",
        "    X_train, X_test = X[train_index], X[test_index]\n",
        "    y_train, y_test = Y[train_index], Y[test_index]\n",
        "    z_train, z_test = Z[train_index], Z[test_index]\n",
        "\n",
        "print(X_train.shape)\n",
        "print(y_train.shape)\n",
        "print(z_train.shape)\n"
      ]
    },
    {
      "cell_type": "markdown",
      "metadata": {
        "id": "VZeUF0GezYJX"
      },
      "source": [
        "# Data Augmentation to reduce bias"
      ]
    },
    {
      "cell_type": "code",
      "execution_count": 18,
      "metadata": {
        "execution": {
          "iopub.execute_input": "2021-06-14T15:59:30.641622Z",
          "iopub.status.busy": "2021-06-14T15:59:30.641222Z",
          "iopub.status.idle": "2021-06-14T15:59:32.066567Z",
          "shell.execute_reply": "2021-06-14T15:59:32.065595Z",
          "shell.execute_reply.started": "2021-06-14T15:59:30.641580Z"
        },
        "id": "KFm51saszYJY"
      },
      "outputs": [],
      "source": [
        "data_gen_train = ImageDataGenerator(\n",
        "        rescale=1./255,\n",
        "        featurewise_center=False,               # set input mean to 0 over the dataset\n",
        "        samplewise_center=False,                # set each sample mean to 0\n",
        "        featurewise_std_normalization=False,    # divide inputs by std of the dataset\n",
        "        samplewise_std_normalization=False,     # divide each input by its std\n",
        "        zca_whitening=False,                    # apply ZCA whitening\n",
        "        rotation_range=10,                      # randomly rotate images in the range (degrees, 0 to 180)\n",
        "        zoom_range = 0.1,                       # Randomly zoom image \n",
        "        width_shift_range=0.1,                  # randomly shift images horizontally (fraction of total width)\n",
        "        height_shift_range=0.1,                 # randomly shift images vertically (fraction of total height)\n",
        "        horizontal_flip=True,                  # randomly flip images\n",
        "        vertical_flip=False)                    # randomly flip images\n",
        "\n",
        "data_gen_val = ImageDataGenerator(rescale=1./255 ) \n",
        "\n",
        "data_gen_train.fit(X_train)\n",
        "data_gen_val.fit(X_test)"
      ]
    },
    {
      "cell_type": "markdown",
      "metadata": {
        "id": "4rW6_pUSzYJY"
      },
      "source": [
        "# Define model with Multiple outputs (1: predict age, 2: classify gender)"
      ]
    },
    {
      "cell_type": "code",
      "execution_count": 19,
      "metadata": {
        "execution": {
          "iopub.execute_input": "2021-06-14T15:59:32.068726Z",
          "iopub.status.busy": "2021-06-14T15:59:32.068131Z",
          "iopub.status.idle": "2021-06-14T16:00:53.664936Z",
          "shell.execute_reply": "2021-06-14T16:00:53.664027Z",
          "shell.execute_reply.started": "2021-06-14T15:59:32.068498Z"
        },
        "colab": {
          "base_uri": "https://localhost:8080/"
        },
        "id": "sq-TU3zWzYJY",
        "outputId": "cb7b1d38-e529-424e-8b7a-7052206c861f"
      },
      "outputs": [
        {
          "output_type": "stream",
          "name": "stderr",
          "text": [
            "/usr/local/lib/python3.8/dist-packages/keras/optimizers/optimizer_v2/adam.py:110: UserWarning: The `lr` argument is deprecated, use `learning_rate` instead.\n",
            "  super(Adam, self).__init__(name, **kwargs)\n"
          ]
        },
        {
          "output_type": "stream",
          "name": "stdout",
          "text": [
            "Epoch 1/30\n",
            "84/84 [==============================] - 266s 3s/step - loss: 41.3794 - age_loss: 38.8547 - gender_loss: 2.5247 - age_mean_absolute_error: 38.8547 - gender_accuracy: 0.6010 - val_loss: 33.8130 - val_age_loss: 33.3073 - val_gender_loss: 0.5057 - val_age_mean_absolute_error: 33.3073 - val_gender_accuracy: 0.7557\n",
            "Epoch 2/30\n",
            "84/84 [==============================] - 258s 3s/step - loss: 21.3791 - age_loss: 18.2329 - gender_loss: 3.1461 - age_mean_absolute_error: 18.2329 - gender_accuracy: 0.6465 - val_loss: 12.8694 - val_age_loss: 12.4199 - val_gender_loss: 0.4495 - val_age_mean_absolute_error: 12.4199 - val_gender_accuracy: 0.8166\n",
            "Epoch 3/30\n",
            "84/84 [==============================] - 259s 3s/step - loss: 17.2314 - age_loss: 14.4933 - gender_loss: 2.7381 - age_mean_absolute_error: 14.4933 - gender_accuracy: 0.7119 - val_loss: 14.1392 - val_age_loss: 13.7488 - val_gender_loss: 0.3904 - val_age_mean_absolute_error: 13.7488 - val_gender_accuracy: 0.8546\n",
            "Epoch 4/30\n",
            "84/84 [==============================] - 255s 3s/step - loss: 15.6529 - age_loss: 13.1785 - gender_loss: 2.4745 - age_mean_absolute_error: 13.1785 - gender_accuracy: 0.6889 - val_loss: 12.0855 - val_age_loss: 11.5043 - val_gender_loss: 0.5811 - val_age_mean_absolute_error: 11.5043 - val_gender_accuracy: 0.8381\n",
            "Epoch 5/30\n",
            "84/84 [==============================] - 255s 3s/step - loss: 13.6897 - age_loss: 12.1384 - gender_loss: 1.5513 - age_mean_absolute_error: 12.1384 - gender_accuracy: 0.7398 - val_loss: 11.7211 - val_age_loss: 11.1010 - val_gender_loss: 0.6202 - val_age_mean_absolute_error: 11.1010 - val_gender_accuracy: 0.8560\n",
            "Epoch 6/30\n",
            "84/84 [==============================] - 248s 3s/step - loss: 13.2312 - age_loss: 11.8904 - gender_loss: 1.3408 - age_mean_absolute_error: 11.8904 - gender_accuracy: 0.7726 - val_loss: 9.7141 - val_age_loss: 9.2591 - val_gender_loss: 0.4550 - val_age_mean_absolute_error: 9.2591 - val_gender_accuracy: 0.8825\n",
            "Epoch 7/30\n",
            "84/84 [==============================] - 253s 3s/step - loss: 12.4959 - age_loss: 11.3769 - gender_loss: 1.1190 - age_mean_absolute_error: 11.3769 - gender_accuracy: 0.8023 - val_loss: 9.2151 - val_age_loss: 8.7579 - val_gender_loss: 0.4572 - val_age_mean_absolute_error: 8.7579 - val_gender_accuracy: 0.8832\n",
            "Epoch 8/30\n",
            "84/84 [==============================] - 250s 3s/step - loss: 11.8006 - age_loss: 10.7749 - gender_loss: 1.0257 - age_mean_absolute_error: 10.7749 - gender_accuracy: 0.8114 - val_loss: 9.8835 - val_age_loss: 9.3860 - val_gender_loss: 0.4975 - val_age_mean_absolute_error: 9.3860 - val_gender_accuracy: 0.8847\n",
            "Epoch 9/30\n",
            "84/84 [==============================] - 250s 3s/step - loss: 12.2242 - age_loss: 11.1955 - gender_loss: 1.0287 - age_mean_absolute_error: 11.1955 - gender_accuracy: 0.8051 - val_loss: 9.1973 - val_age_loss: 8.7652 - val_gender_loss: 0.4321 - val_age_mean_absolute_error: 8.7652 - val_gender_accuracy: 0.8875\n",
            "Epoch 10/30\n",
            "84/84 [==============================] - 257s 3s/step - loss: 11.7432 - age_loss: 10.8125 - gender_loss: 0.9307 - age_mean_absolute_error: 10.8125 - gender_accuracy: 0.8217 - val_loss: 9.1603 - val_age_loss: 8.7091 - val_gender_loss: 0.4512 - val_age_mean_absolute_error: 8.7091 - val_gender_accuracy: 0.8854\n",
            "Epoch 11/30\n",
            "84/84 [==============================] - 251s 3s/step - loss: 11.0734 - age_loss: 10.2110 - gender_loss: 0.8624 - age_mean_absolute_error: 10.2110 - gender_accuracy: 0.8312 - val_loss: 9.1162 - val_age_loss: 8.7131 - val_gender_loss: 0.4032 - val_age_mean_absolute_error: 8.7131 - val_gender_accuracy: 0.8997\n",
            "Epoch 12/30\n",
            "84/84 [==============================] - 249s 3s/step - loss: 11.0451 - age_loss: 10.1769 - gender_loss: 0.8682 - age_mean_absolute_error: 10.1769 - gender_accuracy: 0.8256 - val_loss: 9.2749 - val_age_loss: 8.9175 - val_gender_loss: 0.3574 - val_age_mean_absolute_error: 8.9175 - val_gender_accuracy: 0.9004\n",
            "Epoch 13/30\n",
            "84/84 [==============================] - 254s 3s/step - loss: 11.1827 - age_loss: 10.3936 - gender_loss: 0.7892 - age_mean_absolute_error: 10.3936 - gender_accuracy: 0.8294 - val_loss: 8.9473 - val_age_loss: 8.5673 - val_gender_loss: 0.3800 - val_age_mean_absolute_error: 8.5673 - val_gender_accuracy: 0.9004\n",
            "Epoch 14/30\n",
            "84/84 [==============================] - 253s 3s/step - loss: 10.8117 - age_loss: 10.0619 - gender_loss: 0.7498 - age_mean_absolute_error: 10.0619 - gender_accuracy: 0.8358 - val_loss: 9.0605 - val_age_loss: 8.6726 - val_gender_loss: 0.3879 - val_age_mean_absolute_error: 8.6726 - val_gender_accuracy: 0.8940\n",
            "Epoch 15/30\n",
            "84/84 [==============================] - 249s 3s/step - loss: 10.8158 - age_loss: 10.0710 - gender_loss: 0.7447 - age_mean_absolute_error: 10.0710 - gender_accuracy: 0.8263 - val_loss: 8.8670 - val_age_loss: 8.4993 - val_gender_loss: 0.3677 - val_age_mean_absolute_error: 8.4993 - val_gender_accuracy: 0.9011\n",
            "Epoch 16/30\n",
            "84/84 [==============================] - 252s 3s/step - loss: 10.2146 - age_loss: 9.5644 - gender_loss: 0.6503 - age_mean_absolute_error: 9.5644 - gender_accuracy: 0.8528 - val_loss: 8.6937 - val_age_loss: 8.3187 - val_gender_loss: 0.3750 - val_age_mean_absolute_error: 8.3187 - val_gender_accuracy: 0.8926\n",
            "Epoch 17/30\n",
            "84/84 [==============================] - 257s 3s/step - loss: 10.3863 - age_loss: 9.7301 - gender_loss: 0.6562 - age_mean_absolute_error: 9.7301 - gender_accuracy: 0.8446 - val_loss: 9.5720 - val_age_loss: 9.2320 - val_gender_loss: 0.3401 - val_age_mean_absolute_error: 9.2320 - val_gender_accuracy: 0.8983\n",
            "Epoch 18/30\n",
            "84/84 [==============================] - 251s 3s/step - loss: 9.9496 - age_loss: 9.3265 - gender_loss: 0.6230 - age_mean_absolute_error: 9.3265 - gender_accuracy: 0.8482 - val_loss: 9.0927 - val_age_loss: 8.7148 - val_gender_loss: 0.3779 - val_age_mean_absolute_error: 8.7148 - val_gender_accuracy: 0.8854\n",
            "Epoch 19/30\n",
            "84/84 [==============================] - 253s 3s/step - loss: 10.2138 - age_loss: 9.6241 - gender_loss: 0.5897 - age_mean_absolute_error: 9.6241 - gender_accuracy: 0.8573 - val_loss: 8.6758 - val_age_loss: 8.2828 - val_gender_loss: 0.3930 - val_age_mean_absolute_error: 8.2828 - val_gender_accuracy: 0.8789\n",
            "Epoch 20/30\n",
            "84/84 [==============================] - 255s 3s/step - loss: 9.6292 - age_loss: 9.0735 - gender_loss: 0.5558 - age_mean_absolute_error: 9.0735 - gender_accuracy: 0.8641 - val_loss: 9.0188 - val_age_loss: 8.6842 - val_gender_loss: 0.3345 - val_age_mean_absolute_error: 8.6842 - val_gender_accuracy: 0.9019\n",
            "Epoch 21/30\n",
            "84/84 [==============================] - 251s 3s/step - loss: 9.9078 - age_loss: 9.3594 - gender_loss: 0.5485 - age_mean_absolute_error: 9.3594 - gender_accuracy: 0.8549 - val_loss: 8.9560 - val_age_loss: 8.6324 - val_gender_loss: 0.3235 - val_age_mean_absolute_error: 8.6324 - val_gender_accuracy: 0.8897\n",
            "Epoch 22/30\n",
            "84/84 [==============================] - 252s 3s/step - loss: 9.9764 - age_loss: 9.4653 - gender_loss: 0.5111 - age_mean_absolute_error: 9.4653 - gender_accuracy: 0.8591 - val_loss: 10.5266 - val_age_loss: 10.2059 - val_gender_loss: 0.3207 - val_age_mean_absolute_error: 10.2059 - val_gender_accuracy: 0.8961\n",
            "Epoch 23/30\n",
            "84/84 [==============================] - 253s 3s/step - loss: 9.5905 - age_loss: 9.0658 - gender_loss: 0.5247 - age_mean_absolute_error: 9.0658 - gender_accuracy: 0.8588 - val_loss: 9.6590 - val_age_loss: 9.3561 - val_gender_loss: 0.3030 - val_age_mean_absolute_error: 9.3561 - val_gender_accuracy: 0.8990\n",
            "Epoch 24/30\n",
            "84/84 [==============================] - 255s 3s/step - loss: 9.4575 - age_loss: 8.9488 - gender_loss: 0.5086 - age_mean_absolute_error: 8.9488 - gender_accuracy: 0.8485 - val_loss: 8.7534 - val_age_loss: 8.4706 - val_gender_loss: 0.2828 - val_age_mean_absolute_error: 8.4706 - val_gender_accuracy: 0.9069\n",
            "Epoch 25/30\n",
            "84/84 [==============================] - 252s 3s/step - loss: 9.3993 - age_loss: 8.9159 - gender_loss: 0.4834 - age_mean_absolute_error: 8.9159 - gender_accuracy: 0.8616 - val_loss: 9.2430 - val_age_loss: 8.9255 - val_gender_loss: 0.3174 - val_age_mean_absolute_error: 8.9255 - val_gender_accuracy: 0.8940\n",
            "Epoch 26/30\n",
            "84/84 [==============================] - 249s 3s/step - loss: 9.3163 - age_loss: 8.8360 - gender_loss: 0.4803 - age_mean_absolute_error: 8.8360 - gender_accuracy: 0.8520 - val_loss: 10.6705 - val_age_loss: 10.4021 - val_gender_loss: 0.2684 - val_age_mean_absolute_error: 10.4021 - val_gender_accuracy: 0.9033\n",
            "Epoch 27/30\n",
            "84/84 [==============================] - 253s 3s/step - loss: 9.5459 - age_loss: 9.0947 - gender_loss: 0.4513 - age_mean_absolute_error: 9.0947 - gender_accuracy: 0.8626 - val_loss: 9.4971 - val_age_loss: 9.2280 - val_gender_loss: 0.2691 - val_age_mean_absolute_error: 9.2280 - val_gender_accuracy: 0.9069\n",
            "Epoch 28/30\n",
            "84/84 [==============================] - 253s 3s/step - loss: 9.3691 - age_loss: 8.9576 - gender_loss: 0.4115 - age_mean_absolute_error: 8.9576 - gender_accuracy: 0.8683 - val_loss: 8.7199 - val_age_loss: 8.4478 - val_gender_loss: 0.2721 - val_age_mean_absolute_error: 8.4478 - val_gender_accuracy: 0.9090\n",
            "Epoch 29/30\n",
            "84/84 [==============================] - 249s 3s/step - loss: 9.3295 - age_loss: 8.8562 - gender_loss: 0.4733 - age_mean_absolute_error: 8.8562 - gender_accuracy: 0.8584 - val_loss: 9.1521 - val_age_loss: 8.8869 - val_gender_loss: 0.2651 - val_age_mean_absolute_error: 8.8869 - val_gender_accuracy: 0.9076\n",
            "Epoch 30/30\n",
            "84/84 [==============================] - 251s 3s/step - loss: 8.8210 - age_loss: 8.4096 - gender_loss: 0.4115 - age_mean_absolute_error: 8.4096 - gender_accuracy: 0.8658 - val_loss: 8.8789 - val_age_loss: 8.5708 - val_gender_loss: 0.3081 - val_age_mean_absolute_error: 8.5708 - val_gender_accuracy: 0.8883\n"
          ]
        }
      ],
      "source": [
        "inputs = Input(shape=(size, size, 3), name='input')\n",
        "\n",
        "x = Conv2D(32, (3,3), activation='relu', name='C32')(inputs)\n",
        "x = MaxPooling2D(2,2)(x)\n",
        "\n",
        "x = Conv2D(64, (3,3), activation='relu', name='C64')(x)\n",
        "x = MaxPooling2D(2,2)(x)\n",
        "\n",
        "x = Conv2D(128, (3,3), activation='relu', name='C128')(x)\n",
        "x = MaxPooling2D(2,2)(x)\n",
        "\n",
        "x = Flatten()(x)\n",
        "x = Dense(128, activation='relu', name='D64')(x)\n",
        "\n",
        "# x = Dense(64, activation='relu', name='D16')(x)\n",
        "x = Dropout(0.2)(x)\n",
        "\n",
        "age_out    = Dense(1,activation='relu', name='age')(x)\n",
        "gender_out = Dense(1, activation='sigmoid', name='gender')(x)\n",
        "\n",
        "model = Model(inputs=inputs, outputs=[age_out, gender_out])\n",
        "\n",
        "model.compile(loss={'age': 'mean_absolute_error','gender': 'binary_crossentropy'},\n",
        "              optimizer=optimizers.Adam(learning_rate=0.0001),\n",
        "              metrics={'age': 'mean_absolute_error', 'gender': 'accuracy'})\n",
        "\n",
        "history = model.fit(X_train, {'age': y_train, 'gender': z_train}, epochs=n_epochs, batch_size= n_batch_size,validation_data=(X_test,{'age': y_test, 'gender': z_test}))"
      ]
    },
    {
      "cell_type": "markdown",
      "metadata": {
        "id": "J8LhKI7RzYJZ"
      },
      "source": [
        "# Evaluation results"
      ]
    },
    {
      "cell_type": "code",
      "execution_count": 20,
      "metadata": {
        "execution": {
          "iopub.execute_input": "2021-06-14T16:04:00.722480Z",
          "iopub.status.busy": "2021-06-14T16:04:00.722039Z",
          "iopub.status.idle": "2021-06-14T16:04:02.446720Z",
          "shell.execute_reply": "2021-06-14T16:04:02.445888Z",
          "shell.execute_reply.started": "2021-06-14T16:04:00.722441Z"
        },
        "colab": {
          "base_uri": "https://localhost:8080/"
        },
        "id": "osW4KDiGzYJZ",
        "outputId": "015db9a0-e331-416d-9050-dbae6b427e0c"
      },
      "outputs": [
        {
          "output_type": "stream",
          "name": "stdout",
          "text": [
            "89/89 [==============================] - 61s 688ms/step - loss: 5.5692 - age_loss: 5.4425 - gender_loss: 0.1267 - age_mean_absolute_error: 5.4425 - gender_accuracy: 0.9587\n",
            "\n",
            "Train Status:\n",
            "Age_MAE =  5.44249963760376\n",
            "Gender_accuracy =  0.9586864113807678 \n",
            "\n",
            "44/44 [==============================] - 29s 654ms/step - loss: 8.8789 - age_loss: 8.5709 - gender_loss: 0.3081 - age_mean_absolute_error: 8.5709 - gender_accuracy: 0.8883\n",
            "\n",
            "Validation Status:\n",
            "Age_MAE =  8.57085132598877\n",
            "Gender_accuracy =  0.8882521390914917\n"
          ]
        }
      ],
      "source": [
        "_, age_loss,gender_loss, age_mean_absolute_error,gender_accuracy = model.evaluate(X_train,[y_train,z_train])\n",
        "print(\"\\nTrain Status:\")\n",
        "print(\"Age_MAE = \",age_mean_absolute_error)\n",
        "print(\"Gender_accuracy = \",gender_accuracy,\"\\n\")\n",
        "\n",
        "_, age_loss,gender_loss, age_mean_absolute_error,gender_accuracy = model.evaluate(X_test,[y_test,z_test])\n",
        "print(\"\\nValidation Status:\")\n",
        "print(\"Age_MAE = \",age_mean_absolute_error)\n",
        "print(\"Gender_accuracy = \",gender_accuracy)"
      ]
    },
    {
      "cell_type": "markdown",
      "metadata": {
        "id": "9Q4C-WyyzYJa"
      },
      "source": [
        "# Evaluating one sample data¶"
      ]
    },
    {
      "cell_type": "code",
      "execution_count": 21,
      "metadata": {
        "execution": {
          "iopub.execute_input": "2021-06-14T16:04:34.548624Z",
          "iopub.status.busy": "2021-06-14T16:04:34.548209Z",
          "iopub.status.idle": "2021-06-14T16:04:34.781902Z",
          "shell.execute_reply": "2021-06-14T16:04:34.780808Z",
          "shell.execute_reply.started": "2021-06-14T16:04:34.548587Z"
        },
        "colab": {
          "base_uri": "https://localhost:8080/",
          "height": 321
        },
        "id": "0a95WEnfzYJa",
        "outputId": "cd7d9a07-2461-4182-862f-d5d371121809"
      },
      "outputs": [
        {
          "output_type": "stream",
          "name": "stdout",
          "text": [
            "Actual Age and Gender    :  26 ,  Female\n",
            "1/1 [==============================] - 0s 196ms/step\n",
            "Predicted Age and Gender :  23.0 ,  Female\n"
          ]
        },
        {
          "output_type": "display_data",
          "data": {
            "text/plain": [
              "<Figure size 432x288 with 1 Axes>"
            ],
            "image/png": "[encoded data removed]"
          },
          "metadata": {
            "needs_background": "light"
          }
        }
      ],
      "source": [
        "# 0 corresponds to male, 1 corresponds to female.\n",
        "rand_number = random.randint(0,len(X_test))\n",
        "img=X_test[rand_number]\n",
        "plt.imshow(img)\n",
        "print(\"Actual Age and Gender    : \",y_test[rand_number],\", \", get_gender(z_test[rand_number]))\n",
        "\n",
        "predicted_age, predicted_gender= model.predict(img.reshape(-1,size,size,3))\n",
        "print(\"Predicted Age and Gender : \",np.round(predicted_age)[0][0],\", \",get_gender(np.round(predicted_gender)[0][0]))"
      ]
    },
    {
      "cell_type": "markdown",
      "metadata": {
        "id": "bGQT3tt9zYJb"
      },
      "source": [
        "# Saving the trained model"
      ]
    },
    {
      "cell_type": "code",
      "execution_count": 22,
      "metadata": {
        "execution": {
          "iopub.execute_input": "2021-06-14T16:00:55.982886Z",
          "iopub.status.busy": "2021-06-14T16:00:55.982507Z",
          "iopub.status.idle": "2021-06-14T16:00:56.100821Z",
          "shell.execute_reply": "2021-06-14T16:00:56.099481Z",
          "shell.execute_reply.started": "2021-06-14T16:00:55.982855Z"
        },
        "colab": {
          "base_uri": "https://localhost:8080/"
        },
        "id": "5-172DN9zYJb",
        "outputId": "9429733c-9e0c-4038-e2c7-f59abb7279bb"
      },
      "outputs": [
        {
          "output_type": "stream",
          "name": "stdout",
          "text": [
            "Saved model to disk\n"
          ]
        }
      ],
      "source": [
        "# serialize model to JSON and serialize weights to HDF5\n",
        "\n",
        "model_json = model.to_json()\n",
        "with open(\"model.json\", \"w\") as json_file:\n",
        "    json_file.write(model_json)\n",
        "    \n",
        "model.save_weights(\"model.h5\")\n",
        "print(\"Saved model to disk\")"
      ]
    }
  ],
  "metadata": {
    "kernelspec": {
      "display_name": "Python 3",
      "language": "python",
      "name": "python3"
    },
    "language_info": {
      "codemirror_mode": {
        "name": "ipython",
        "version": 3
      },
      "file_extension": ".py",
      "mimetype": "text/x-python",
      "name": "python",
      "nbconvert_exporter": "python",
      "pygments_lexer": "ipython3",
      "version": "3.7.4"
    },
    "toc": {
      "base_numbering": 1,
      "nav_menu": {},
      "number_sections": true,
      "sideBar": true,
      "skip_h1_title": false,
      "title_cell": "Table of Contents",
      "title_sidebar": "Contents",
      "toc_cell": false,
      "toc_position": {},
      "toc_section_display": true,
      "toc_window_display": false
    },
    "colab": {
      "provenance": []
    }
  },
  "nbformat": 4,
  "nbformat_minor": 0
}